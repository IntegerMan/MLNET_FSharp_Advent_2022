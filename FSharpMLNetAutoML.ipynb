{
 "cells": [
  {
   "attachments": {},
   "cell_type": "markdown",
   "metadata": {
    "dotnet_interactive": {
     "language": "fsharp"
    },
    "polyglot_notebook": {
     "kernelName": "fsharp"
    }
   },
   "source": [
    "## Using ML.NET in F# with Polyglot Notebooks\n",
    "By Matt Eland"
   ]
  },
  {
   "attachments": {},
   "cell_type": "markdown",
   "metadata": {
    "dotnet_interactive": {
     "language": "fsharp"
    },
    "polyglot_notebook": {
     "kernelName": "fsharp"
    }
   },
   "source": [
    "### Importing ML.NET"
   ]
  },
  {
   "cell_type": "code",
   "execution_count": 49,
   "metadata": {
    "dotnet_interactive": {
     "language": "fsharp"
    },
    "polyglot_notebook": {
     "kernelName": "fsharp"
    },
    "vscode": {
     "languageId": "polyglot-notebook"
    }
   },
   "outputs": [
    {
     "data": {
      "text/html": [
       "<div><div></div><div></div><div><strong>Installed Packages</strong><ul><li><span>Microsoft.ML, 2.0.0</span></li></ul></div></div>"
      ]
     },
     "metadata": {},
     "output_type": "display_data"
    }
   ],
   "source": [
    "// Install the Microsoft.ML packages we're going to use for ML.NET\n",
    "#r \"nuget:Microsoft.ML\""
   ]
  },
  {
   "cell_type": "code",
   "execution_count": 50,
   "metadata": {
    "dotnet_interactive": {
     "language": "fsharp"
    },
    "polyglot_notebook": {
     "kernelName": "fsharp"
    },
    "vscode": {
     "languageId": "polyglot-notebook"
    }
   },
   "outputs": [],
   "source": [
    "// Create an ML Context. We'll use this for all ML operations\n",
    "let context = new MLContext();"
   ]
  },
  {
   "attachments": {},
   "cell_type": "markdown",
   "metadata": {
    "dotnet_interactive": {
     "language": "fsharp"
    },
    "polyglot_notebook": {
     "kernelName": "fsharp"
    }
   },
   "source": [
    "### Loading Data\n",
    "Source: [London Weather Data](https://www.kaggle.com/datasets/emmanuelfwerr/london-weather-data)"
   ]
  },
  {
   "cell_type": "code",
   "execution_count": 51,
   "metadata": {
    "dotnet_interactive": {
     "language": "fsharp"
    },
    "polyglot_notebook": {
     "kernelName": "fsharp"
    },
    "vscode": {
     "languageId": "polyglot-notebook"
    }
   },
   "outputs": [],
   "source": [
    "type WeatherInput =\n",
    "    {\n",
    "        // Ignore date column\n",
    "        [<LoadColumn(1)>]\n",
    "        CloudCover: Single // in oktas\n",
    "        [<LoadColumn(2)>]\n",
    "        Sunshine: Single // in hours\n",
    "        [<LoadColumn(3)>]\n",
    "        GlobalRads: Single // Global radiation in Watt / square meter\n",
    "        [<LoadColumn(4)>]\n",
    "        MaxTemp: Single // Celsius\n",
    "        [<LoadColumn(5)>]\n",
    "        MeanTemp: Single // Celsius\n",
    "        [<LoadColumn(6)>]\n",
    "        MinTemp: Single // Celsius\n",
    "        [<LoadColumn(7)>]\n",
    "        Precipitation: Single // This is the precipitation in millimeters. This is what we want to predict\n",
    "        [<LoadColumn(8)>]\n",
    "        Pressure: Single // In Pascals\n",
    "        // Ignore snow depth since that won't be known at time of prediction and is related to Precipitation\n",
    "    }"
   ]
  },
  {
   "cell_type": "code",
   "execution_count": 52,
   "metadata": {
    "dotnet_interactive": {
     "language": "fsharp"
    },
    "polyglot_notebook": {
     "kernelName": "fsharp"
    },
    "vscode": {
     "languageId": "polyglot-notebook"
    }
   },
   "outputs": [],
   "source": [
    "// Load the data\n",
    "let data = context.Data.LoadFromTextFile<WeatherInput>(\"london_weather.csv\", hasHeader = true, separatorChar=',')"
   ]
  },
  {
   "cell_type": "code",
   "execution_count": 53,
   "metadata": {
    "dotnet_interactive": {
     "language": "fsharp"
    },
    "polyglot_notebook": {
     "kernelName": "fsharp"
    },
    "vscode": {
     "languageId": "polyglot-notebook"
    }
   },
   "outputs": [],
   "source": [
    "// Split into train and test splits to detect overfitting\n",
    "let split = context.Data.TrainTestSplit(data, testFraction = 0.2)\n",
    "\n",
    "let trainSet = split.TrainSet\n",
    "let testSet = split.TestSet"
   ]
  },
  {
   "cell_type": "code",
   "execution_count": 54,
   "metadata": {
    "dotnet_interactive": {
     "language": "fsharp"
    },
    "polyglot_notebook": {
     "kernelName": "fsharp"
    },
    "vscode": {
     "languageId": "polyglot-notebook"
    }
   },
   "outputs": [],
   "source": [
    "let processPipeline = EstimatorChain()\n",
    "                        .Append(context.Transforms.CopyColumns(\"Label\", \"Precipitation\"))\n",
    "                        .Append(context.Transforms.NormalizeMeanVariance(\"CloudCover\", \"CloudCover\"))\n",
    "                        .Append(context.Transforms.NormalizeMeanVariance(\"Sunshine\", \"Sunshine\"))\n",
    "                        .Append(context.Transforms.NormalizeMeanVariance(\"GlobalRads\", \"GlobalRads\"))\n",
    "                        .Append(context.Transforms.NormalizeMeanVariance(\"MaxTemp\", \"MaxTemp\"))\n",
    "                        .Append(context.Transforms.NormalizeMeanVariance(\"MeanTemp\", \"MeanTemp\"))\n",
    "                        .Append(context.Transforms.NormalizeMeanVariance(\"MinTemp\", \"MinTemp\"))\n",
    "                        .Append(context.Transforms.NormalizeMeanVariance(\"Pressure\", \"Pressure\"))\n",
    "                        .Append(context.Transforms.Concatenate(\"Features\", [|\"CloudCover\";\"Sunshine\";\"GlobalRads\";\"MaxTemp\";\"MeanTemp\";\"MinTemp\";\"Pressure\"|]))\n",
    "                        .AppendCacheCheckpoint(context)"
   ]
  },
  {
   "cell_type": "code",
   "execution_count": 55,
   "metadata": {
    "dotnet_interactive": {
     "language": "fsharp"
    },
    "polyglot_notebook": {
     "kernelName": "fsharp"
    },
    "vscode": {
     "languageId": "polyglot-notebook"
    }
   },
   "outputs": [],
   "source": [
    "// Select the algorithm we want\n",
    "let trainer = context.Regression.Trainers.OnlineGradientDescent(labelColumnName = \"Label\", featureColumnName = \"Features\")\n",
    "\n",
    "let pipeline = processPipeline.Append(trainer)"
   ]
  },
  {
   "cell_type": "code",
   "execution_count": 56,
   "metadata": {
    "dotnet_interactive": {
     "language": "fsharp"
    },
    "polyglot_notebook": {
     "kernelName": "fsharp"
    },
    "vscode": {
     "languageId": "polyglot-notebook"
    }
   },
   "outputs": [
    {
     "data": {
      "text/html": [
       "<table><thead><tr><th><i>index</i></th><th><i>type</i></th><th>FeatureColumnName</th><th>FeatureColumnType</th><th>Model</th></tr></thead><tbody><tr><td>0</td><td><span><a href=\"https://docs.microsoft.com/dotnet/api/microsoft.ml.transforms.columncopyingtransformer?view=net-7.0\">Microsoft.ML.Transforms.ColumnCopyingTransformer</a></span></td><td></td><td></td><td></td></tr><tr><td>1</td><td><span><a href=\"https://docs.microsoft.com/dotnet/api/microsoft.ml.transforms.normalizingtransformer?view=net-7.0\">Microsoft.ML.Transforms.NormalizingTransformer</a></span></td><td></td><td></td><td></td></tr><tr><td>2</td><td><span><a href=\"https://docs.microsoft.com/dotnet/api/microsoft.ml.transforms.normalizingtransformer?view=net-7.0\">Microsoft.ML.Transforms.NormalizingTransformer</a></span></td><td></td><td></td><td></td></tr><tr><td>3</td><td><span><a href=\"https://docs.microsoft.com/dotnet/api/microsoft.ml.transforms.normalizingtransformer?view=net-7.0\">Microsoft.ML.Transforms.NormalizingTransformer</a></span></td><td></td><td></td><td></td></tr><tr><td>4</td><td><span><a href=\"https://docs.microsoft.com/dotnet/api/microsoft.ml.transforms.normalizingtransformer?view=net-7.0\">Microsoft.ML.Transforms.NormalizingTransformer</a></span></td><td></td><td></td><td></td></tr><tr><td>5</td><td><span><a href=\"https://docs.microsoft.com/dotnet/api/microsoft.ml.transforms.normalizingtransformer?view=net-7.0\">Microsoft.ML.Transforms.NormalizingTransformer</a></span></td><td></td><td></td><td></td></tr><tr><td>6</td><td><span><a href=\"https://docs.microsoft.com/dotnet/api/microsoft.ml.transforms.normalizingtransformer?view=net-7.0\">Microsoft.ML.Transforms.NormalizingTransformer</a></span></td><td></td><td></td><td></td></tr><tr><td>7</td><td><span><a href=\"https://docs.microsoft.com/dotnet/api/microsoft.ml.transforms.normalizingtransformer?view=net-7.0\">Microsoft.ML.Transforms.NormalizingTransformer</a></span></td><td></td><td></td><td></td></tr><tr><td>8</td><td><span><a href=\"https://docs.microsoft.com/dotnet/api/microsoft.ml.data.columnconcatenatingtransformer?view=net-7.0\">Microsoft.ML.Data.ColumnConcatenatingTransformer</a></span></td><td></td><td></td><td></td></tr><tr><td>9</td><td><span><a href=\"https://docs.microsoft.com/dotnet/api/microsoft.ml.data.regressionpredictiontransformer-1?view=net-7.0\">Microsoft.ML.Data.RegressionPredictionTransformer&lt;Microsoft.ML.Trainers.LinearRegressionModelParameters&gt;</a></span></td><td>Features</td><td><table><thead><tr><th>Dimensions</th><th>IsKnownSize</th><th>ItemType</th><th>Size</th><th>RawType</th></tr></thead><tbody><tr><td><div class=\"dni-plaintext\"><pre>[ 7 ]</pre></div></td><td><div class=\"dni-plaintext\"><pre>True</pre></div></td><td><div class=\"dni-plaintext\"><pre>NumberDataViewType\r\n",
       "        RawType: System.Single</pre></div></td><td><div class=\"dni-plaintext\"><pre>7</pre></div></td><td><div class=\"dni-plaintext\"><pre>Microsoft.ML.Data.VBuffer&lt;System.Single&gt;</pre></div></td></tr></tbody></table></td><td><table><thead><tr><th>Weights</th><th>Bias</th></tr></thead><tbody><tr><td><div class=\"dni-plaintext\"><pre>[ 1.1249702, -0.9436583, 0.09858767, -0.41163045, 0.29090133, 0.42288145, 0.36714587 ]</pre></div></td><td><div class=\"dni-plaintext\"><pre>0.70410115</pre></div></td></tr></tbody></table></td></tr></tbody></table><style>\r\n",
       ".dni-code-hint {\r\n",
       "    font-style: italic;\r\n",
       "    overflow: hidden;\r\n",
       "    white-space: nowrap;\r\n",
       "}\r\n",
       ".dni-treeview {\r\n",
       "    white-space: nowrap;\r\n",
       "}\r\n",
       ".dni-treeview td {\r\n",
       "    vertical-align: top;\r\n",
       "    text-align: start;\r\n",
       "}\r\n",
       "details.dni-treeview {\r\n",
       "    padding-left: 1em;\r\n",
       "}\r\n",
       "table td {\r\n",
       "    text-align: start;\r\n",
       "}\r\n",
       "table tr { \r\n",
       "    vertical-align: top; \r\n",
       "    margin: 0em 0px;\r\n",
       "}\r\n",
       "table tr td pre \r\n",
       "{ \r\n",
       "    vertical-align: top !important; \r\n",
       "    margin: 0em 0px !important;\r\n",
       "} \r\n",
       "table th {\r\n",
       "    text-align: start;\r\n",
       "}\r\n",
       "</style>"
      ]
     },
     "metadata": {},
     "output_type": "display_data"
    }
   ],
   "source": [
    "// Train the model\n",
    "let model = pipeline.Fit(trainSet)\n",
    "\n",
    "model"
   ]
  },
  {
   "cell_type": "code",
   "execution_count": 57,
   "metadata": {
    "dotnet_interactive": {
     "language": "fsharp"
    },
    "polyglot_notebook": {
     "kernelName": "fsharp"
    },
    "vscode": {
     "languageId": "polyglot-notebook"
    }
   },
   "outputs": [
    {
     "data": {
      "text/html": [
       "<table><thead><tr><th>MeanAbsoluteError</th><th>MeanSquaredError</th><th>RootMeanSquaredError</th><th>LossFunction</th><th>RSquared</th></tr></thead><tbody><tr><td><div class=\"dni-plaintext\"><pre>2.117368611215726</pre></div></td><td><div class=\"dni-plaintext\"><pre>13.202526174072856</pre></div></td><td><div class=\"dni-plaintext\"><pre>3.633528061550214</pre></div></td><td><div class=\"dni-plaintext\"><pre>13.202526238818384</pre></div></td><td><div class=\"dni-plaintext\"><pre>0.06655389348867957</pre></div></td></tr></tbody></table>"
      ]
     },
     "metadata": {},
     "output_type": "display_data"
    }
   ],
   "source": [
    "let testResults = model.Transform(testSet)\n",
    "\n",
    "let testMetrics = context.Regression.Evaluate(testResults, \"Label\", \"Score\")\n",
    "\n",
    "testMetrics"
   ]
  },
  {
   "cell_type": "code",
   "execution_count": 58,
   "metadata": {
    "dotnet_interactive": {
     "language": "fsharp"
    },
    "polyglot_notebook": {
     "kernelName": "fsharp"
    },
    "vscode": {
     "languageId": "polyglot-notebook"
    }
   },
   "outputs": [],
   "source": [
    "context.Model.Save(model, data.Schema, \"Model.zip\")"
   ]
  },
  {
   "cell_type": "code",
   "execution_count": 72,
   "metadata": {
    "dotnet_interactive": {
     "language": "fsharp"
    },
    "polyglot_notebook": {
     "kernelName": "fsharp"
    },
    "vscode": {
     "languageId": "polyglot-notebook"
    }
   },
   "outputs": [
    {
     "data": {
      "text/html": [
       "<table><thead><tr><th><i>index</i></th><th><i>type</i></th><th>FeatureColumnName</th><th>FeatureColumnType</th><th>Model</th></tr></thead><tbody><tr><td>0</td><td><span><a href=\"https://docs.microsoft.com/dotnet/api/microsoft.ml.transforms.columncopyingtransformer?view=net-7.0\">Microsoft.ML.Transforms.ColumnCopyingTransformer</a></span></td><td></td><td></td><td></td></tr><tr><td>1</td><td><span><a href=\"https://docs.microsoft.com/dotnet/api/microsoft.ml.transforms.normalizingtransformer?view=net-7.0\">Microsoft.ML.Transforms.NormalizingTransformer</a></span></td><td></td><td></td><td></td></tr><tr><td>2</td><td><span><a href=\"https://docs.microsoft.com/dotnet/api/microsoft.ml.transforms.normalizingtransformer?view=net-7.0\">Microsoft.ML.Transforms.NormalizingTransformer</a></span></td><td></td><td></td><td></td></tr><tr><td>3</td><td><span><a href=\"https://docs.microsoft.com/dotnet/api/microsoft.ml.transforms.normalizingtransformer?view=net-7.0\">Microsoft.ML.Transforms.NormalizingTransformer</a></span></td><td></td><td></td><td></td></tr><tr><td>4</td><td><span><a href=\"https://docs.microsoft.com/dotnet/api/microsoft.ml.transforms.normalizingtransformer?view=net-7.0\">Microsoft.ML.Transforms.NormalizingTransformer</a></span></td><td></td><td></td><td></td></tr><tr><td>5</td><td><span><a href=\"https://docs.microsoft.com/dotnet/api/microsoft.ml.transforms.normalizingtransformer?view=net-7.0\">Microsoft.ML.Transforms.NormalizingTransformer</a></span></td><td></td><td></td><td></td></tr><tr><td>6</td><td><span><a href=\"https://docs.microsoft.com/dotnet/api/microsoft.ml.transforms.normalizingtransformer?view=net-7.0\">Microsoft.ML.Transforms.NormalizingTransformer</a></span></td><td></td><td></td><td></td></tr><tr><td>7</td><td><span><a href=\"https://docs.microsoft.com/dotnet/api/microsoft.ml.transforms.normalizingtransformer?view=net-7.0\">Microsoft.ML.Transforms.NormalizingTransformer</a></span></td><td></td><td></td><td></td></tr><tr><td>8</td><td><span><a href=\"https://docs.microsoft.com/dotnet/api/microsoft.ml.data.columnconcatenatingtransformer?view=net-7.0\">Microsoft.ML.Data.ColumnConcatenatingTransformer</a></span></td><td></td><td></td><td></td></tr><tr><td>9</td><td><span><a href=\"https://docs.microsoft.com/dotnet/api/microsoft.ml.data.regressionpredictiontransformer-1?view=net-7.0\">Microsoft.ML.Data.RegressionPredictionTransformer&lt;Microsoft.ML.Trainers.LinearRegressionModelParameters&gt;</a></span></td><td>Features</td><td><table><thead><tr><th>Dimensions</th><th>IsKnownSize</th><th>ItemType</th><th>Size</th><th>RawType</th></tr></thead><tbody><tr><td><div class=\"dni-plaintext\"><pre>[ 7 ]</pre></div></td><td><div class=\"dni-plaintext\"><pre>True</pre></div></td><td><div class=\"dni-plaintext\"><pre>NumberDataViewType\r\n",
       "        RawType: System.Single</pre></div></td><td><div class=\"dni-plaintext\"><pre>7</pre></div></td><td><div class=\"dni-plaintext\"><pre>Microsoft.ML.Data.VBuffer&lt;System.Single&gt;</pre></div></td></tr></tbody></table></td><td><table><thead><tr><th>Weights</th><th>Bias</th></tr></thead><tbody><tr><td><div class=\"dni-plaintext\"><pre>[ 1.1249702, -0.9436583, 0.09858767, -0.41163045, 0.29090133, 0.42288145, 0.36714587 ]</pre></div></td><td><div class=\"dni-plaintext\"><pre>0.70410115</pre></div></td></tr></tbody></table></td></tr></tbody></table><style>\r\n",
       ".dni-code-hint {\r\n",
       "    font-style: italic;\r\n",
       "    overflow: hidden;\r\n",
       "    white-space: nowrap;\r\n",
       "}\r\n",
       ".dni-treeview {\r\n",
       "    white-space: nowrap;\r\n",
       "}\r\n",
       ".dni-treeview td {\r\n",
       "    vertical-align: top;\r\n",
       "    text-align: start;\r\n",
       "}\r\n",
       "details.dni-treeview {\r\n",
       "    padding-left: 1em;\r\n",
       "}\r\n",
       "table td {\r\n",
       "    text-align: start;\r\n",
       "}\r\n",
       "table tr { \r\n",
       "    vertical-align: top; \r\n",
       "    margin: 0em 0px;\r\n",
       "}\r\n",
       "table tr td pre \r\n",
       "{ \r\n",
       "    vertical-align: top !important; \r\n",
       "    margin: 0em 0px !important;\r\n",
       "} \r\n",
       "table th {\r\n",
       "    text-align: start;\r\n",
       "}\r\n",
       "</style>"
      ]
     },
     "metadata": {},
     "output_type": "display_data"
    }
   ],
   "source": [
    "let loadedModel, loadedSchema = context.Model.Load(\"Model.zip\")"
   ]
  },
  {
   "cell_type": "code",
   "execution_count": 59,
   "metadata": {
    "dotnet_interactive": {
     "language": "fsharp"
    },
    "polyglot_notebook": {
     "kernelName": "fsharp"
    },
    "vscode": {
     "languageId": "polyglot-notebook"
    }
   },
   "outputs": [],
   "source": [
    "[<CLIMutable>]\n",
    "type WeatherPrediction = {\n",
    "    [<ColumnName(\"Score\")>] \n",
    "    Precipitation: Single\n",
    "}\n",
    "\n",
    "let predictionEngine = context.Model.CreatePredictionEngine<WeatherInput, WeatherPrediction>(model)"
   ]
  },
  {
   "cell_type": "code",
   "execution_count": 60,
   "metadata": {
    "dotnet_interactive": {
     "language": "fsharp"
    },
    "polyglot_notebook": {
     "kernelName": "fsharp"
    },
    "vscode": {
     "languageId": "polyglot-notebook"
    }
   },
   "outputs": [
    {
     "data": {
      "text/html": [
       "<table><thead><tr><th>Precipitation</th></tr></thead><tbody><tr><td><div class=\"dni-plaintext\"><pre>1.0089107</pre></div></td></tr></tbody></table>"
      ]
     },
     "metadata": {},
     "output_type": "display_data"
    }
   ],
   "source": [
    "let conditions = {\n",
    "    CloudCover = 4f; \n",
    "    Sunshine=5.8f; \n",
    "    GlobalRads=50f; \n",
    "    MaxTemp=5.2f; \n",
    "    MinTemp=1.6f; \n",
    "    MeanTemp=3.7f; \n",
    "    Pressure=101170f;\n",
    "    Precipitation=0f; // Not used, but part of input scheme\n",
    "}\n",
    "\n",
    "let prediction = predictionEngine.Predict(conditions)\n",
    "\n",
    "prediction"
   ]
  }
 ],
 "metadata": {
  "kernelspec": {
   "display_name": ".NET (C#)",
   "language": "C#",
   "name": ".net-csharp"
  },
  "polyglot_notebook": {
   "kernelInfo": {
    "defaultKernelName": "csharp",
    "items": [
     {
      "aliases": [],
      "name": "csharp"
     }
    ]
   }
  }
 },
 "nbformat": 4,
 "nbformat_minor": 2
}
